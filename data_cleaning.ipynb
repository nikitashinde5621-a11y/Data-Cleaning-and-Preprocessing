{
 "cells": [
  {
   "cell_type": "markdown",
   "id": "b12bcb4b",
   "metadata": {},
   "source": [
    "# Data Cleaning: Mall Customer Segmentation Data"
   ]
  },
  {
   "cell_type": "code",
   "execution_count": null,
   "id": "3bce8246",
   "metadata": {},
   "outputs": [],
   "source": [
    "\n",
    "import pandas as pd\n",
    "\n",
    "# Load dataset\n",
    "df = pd.read_csv(\"Mall_Customers_raw.csv\")\n",
    "\n",
    "# Drop duplicates\n",
    "df = df.drop_duplicates()\n",
    "\n",
    "# Fill missing Age with median\n",
    "df[\"Age\"].fillna(df[\"Age\"].median(), inplace=True)\n",
    "\n",
    "# Standardize Gender\n",
    "df[\"Gender\"] = df[\"Gender\"].str.strip().str.lower()\n",
    "\n",
    "# Rename columns\n",
    "df.columns = df.columns.str.strip().str.lower().str.replace(\" \", \"_\").str.replace(\"(\", \"\").str.replace(\")\", \"\").str.replace(\"-\", \"_\")\n",
    "\n",
    "# Fix datatypes\n",
    "df[\"customerid\"] = df[\"customerid\"].astype(int)\n",
    "df[\"age\"] = df[\"age\"].astype(int)\n",
    "\n",
    "# Save cleaned dataset\n",
    "df.to_csv(\"Mall_Customers_cleaned.csv\", index=False)\n",
    "df.head()\n"
   ]
  }
 ],
 "metadata": {},
 "nbformat": 4,
 "nbformat_minor": 5
}
